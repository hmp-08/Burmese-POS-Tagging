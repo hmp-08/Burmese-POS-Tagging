{
 "cells": [
  {
   "cell_type": "markdown",
   "id": "3406e077",
   "metadata": {},
   "source": [
    "## WER calculation"
   ]
  },
  {
   "cell_type": "code",
   "execution_count": 1,
   "id": "1f46d72c",
   "metadata": {},
   "outputs": [],
   "source": [
    "import pandas as pd\n",
    "import numpy as np\n",
    "from jiwer import wer\n",
    "\n",
    "pred_path = \"./pred-test.txt\"\n",
    "tgt_path = \"./tgt-test.txt\"\n",
    "\n",
    "with open(pred_path, 'r') as file:\n",
    "    hypo = file.readlines()\n",
    "    hypo = [line.strip() for line in hypo]\n",
    "    \n",
    "with open(tgt_path, 'r') as file:\n",
    "    ref = file.readlines()\n",
    "    ref = [line.strip() for line in ref]  "
   ]
  },
  {
   "cell_type": "code",
   "execution_count": 2,
   "id": "0123474b",
   "metadata": {},
   "outputs": [
    {
     "name": "stdout",
     "output_type": "stream",
     "text": [
      "WER:  0.05191707299961413\n"
     ]
    }
   ],
   "source": [
    "wer_score=wer(ref,hypo)\n",
    "print(\"WER: \",wer_score)"
   ]
  },
  {
   "cell_type": "code",
   "execution_count": null,
   "id": "c1f252c6",
   "metadata": {},
   "outputs": [],
   "source": []
  },
  {
   "cell_type": "code",
   "execution_count": null,
   "id": "560ac91a",
   "metadata": {},
   "outputs": [],
   "source": []
  }
 ],
 "metadata": {
  "kernelspec": {
   "display_name": "tts_env",
   "language": "python",
   "name": "tts_env"
  },
  "language_info": {
   "codemirror_mode": {
    "name": "ipython",
    "version": 3
   },
   "file_extension": ".py",
   "mimetype": "text/x-python",
   "name": "python",
   "nbconvert_exporter": "python",
   "pygments_lexer": "ipython3",
   "version": "3.7.13"
  },
  "toc": {
   "base_numbering": 1,
   "nav_menu": {},
   "number_sections": true,
   "sideBar": true,
   "skip_h1_title": false,
   "title_cell": "Table of Contents",
   "title_sidebar": "Contents",
   "toc_cell": false,
   "toc_position": {},
   "toc_section_display": true,
   "toc_window_display": true
  }
 },
 "nbformat": 4,
 "nbformat_minor": 5
}
